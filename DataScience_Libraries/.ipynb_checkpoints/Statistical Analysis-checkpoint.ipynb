{
 "cells": [
  {
   "cell_type": "markdown",
   "id": "8ae94067",
   "metadata": {},
   "source": [
    "# Statistical Analysis"
   ]
  },
  {
   "cell_type": "code",
   "execution_count": 4,
   "id": "39569afb",
   "metadata": {},
   "outputs": [
    {
     "name": "stdout",
     "output_type": "stream",
     "text": [
      "87.91666666666667\n"
     ]
    }
   ],
   "source": [
    "#Mean\n",
    "import numpy as np\n",
    "speed = [98,66,78,80,56,70,89,90,120,98,100,110]\n",
    "x = np.mean(speed)\n",
    "print(x)"
   ]
  },
  {
   "cell_type": "code",
   "execution_count": 5,
   "id": "77b5e1b6",
   "metadata": {},
   "outputs": [
    {
     "name": "stdout",
     "output_type": "stream",
     "text": [
      "89.5\n"
     ]
    }
   ],
   "source": [
    "#Median\n",
    "y = np.median(speed)\n",
    "print(y)"
   ]
  },
  {
   "cell_type": "code",
   "execution_count": 6,
   "id": "b42a47e5",
   "metadata": {},
   "outputs": [
    {
     "name": "stdout",
     "output_type": "stream",
     "text": [
      "3.0\n"
     ]
    }
   ],
   "source": [
    "a=[1,2,3,4,5]\n",
    "med = np.median(a)\n",
    "print(med)"
   ]
  },
  {
   "cell_type": "code",
   "execution_count": 12,
   "id": "6d8bddb7",
   "metadata": {},
   "outputs": [
    {
     "name": "stdout",
     "output_type": "stream",
     "text": [
      "ModeResult(mode=array([98]), count=array([3]))\n"
     ]
    },
    {
     "name": "stderr",
     "output_type": "stream",
     "text": [
      "C:\\Users\\gaura\\AppData\\Local\\Temp\\ipykernel_16740\\1704898971.py:3: FutureWarning: Unlike other reduction functions (e.g. `skew`, `kurtosis`), the default behavior of `mode` typically preserves the axis it acts along. In SciPy 1.11.0, this behavior will change: the default value of `keepdims` will become False, the `axis` over which the statistic is taken will be eliminated, and the value None will no longer be accepted. Set `keepdims` to True or False to avoid this warning.\n",
      "  mo = stats.mode(speed)\n"
     ]
    }
   ],
   "source": [
    "#Mode\n",
    "from scipy import stats\n",
    "speed = [98,68,70,98,90,75,80,98,90,80,75]\n",
    "mo = stats.mode(speed)\n",
    "print(mo)"
   ]
  },
  {
   "cell_type": "code",
   "execution_count": 1,
   "id": "d6b5e5d6",
   "metadata": {},
   "outputs": [
    {
     "name": "stdout",
     "output_type": "stream",
     "text": [
      "3.0\n",
      "5.5\n",
      "7.0\n",
      "4.0\n"
     ]
    }
   ],
   "source": [
    "#Quartile\n",
    "import numpy as np\n",
    "data = [1,3,3,4,5,6,6,7,8,8]\n",
    "Q1 = np.median(data[:5]) #First Quartile\n",
    "print(Q1)\n",
    "Q2 = np.median(data) #Second Quartile\n",
    "print(Q2)\n",
    "Q3 = np.median(data[5:]) #Third Quartile\n",
    "print(Q3)\n",
    "IQ = Q3 - Q1\n",
    "print(IQ)\n"
   ]
  },
  {
   "cell_type": "code",
   "execution_count": null,
   "id": "cb39655f",
   "metadata": {},
   "outputs": [],
   "source": [
    "data1 = [32,36,46,47,59,75,79,82,87,88,90,91,92,97,99,101,102,105,109,110]\n",
    "q1 = np.median(data1[:10])\n",
    "q2 = np.median(data1)\n",
    "q3 = np.median(data1[10:])\n",
    "iq = q3 - q1\n",
    "print(\"First Quartile: \",q1)\n",
    "print(\"Second Quartile: \",q2)\n",
    "print(\"Third Quartile: \",q3)\n",
    "print(\"Inter quartile: \",iq)"
   ]
  }
 ],
 "metadata": {
  "kernelspec": {
   "display_name": "Python 3 (ipykernel)",
   "language": "python",
   "name": "python3"
  },
  "language_info": {
   "codemirror_mode": {
    "name": "ipython",
    "version": 3
   },
   "file_extension": ".py",
   "mimetype": "text/x-python",
   "name": "python",
   "nbconvert_exporter": "python",
   "pygments_lexer": "ipython3",
   "version": "3.9.13"
  }
 },
 "nbformat": 4,
 "nbformat_minor": 5
}
