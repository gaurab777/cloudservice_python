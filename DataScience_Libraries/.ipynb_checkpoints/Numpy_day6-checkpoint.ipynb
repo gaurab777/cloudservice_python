{
 "cells": [
  {
   "cell_type": "code",
   "execution_count": 1,
   "id": "debb1285",
   "metadata": {},
   "outputs": [
    {
     "name": "stdout",
     "output_type": "stream",
     "text": [
      "[10 20 30 40 50]\n"
     ]
    }
   ],
   "source": [
    "import numpy\n",
    "arr = numpy.array([10,20,30,40,50])\n",
    "print(arr)"
   ]
  },
  {
   "cell_type": "code",
   "execution_count": 3,
   "id": "001744e1",
   "metadata": {},
   "outputs": [
    {
     "name": "stdout",
     "output_type": "stream",
     "text": [
      "[10 20 30 40]\n"
     ]
    }
   ],
   "source": [
    "import numpy as np\n",
    "arr1 = np.array([10,20,30,40])\n",
    "print(arr1)"
   ]
  },
  {
   "cell_type": "code",
   "execution_count": 4,
   "id": "cdc44668",
   "metadata": {},
   "outputs": [
    {
     "name": "stdout",
     "output_type": "stream",
     "text": [
      "[[1 2 3]\n",
      " [4 5 6]]\n"
     ]
    }
   ],
   "source": [
    "import numpy as np\n",
    "arr2 = np.array([[1,2,3],[4,5,6]])\n",
    "print(arr2)"
   ]
  },
  {
   "cell_type": "code",
   "execution_count": 6,
   "id": "d406e495",
   "metadata": {},
   "outputs": [
    {
     "name": "stdout",
     "output_type": "stream",
     "text": [
      "[[[1 2 3]\n",
      "  [4 5 6]]\n",
      "\n",
      " [[1 2 3]\n",
      "  [4 5 6]]]\n"
     ]
    }
   ],
   "source": [
    "#3 dimension having two 2 dimensional arrays\n",
    "import numpy as np\n",
    "arr3 = np.array([[[1,2,3],[4,5,6]],[[1,2,3],[4,5,6]]])\n",
    "print(arr3)"
   ]
  },
  {
   "cell_type": "code",
   "execution_count": 7,
   "id": "9fb1b24d",
   "metadata": {},
   "outputs": [
    {
     "name": "stdout",
     "output_type": "stream",
     "text": [
      "No. of dimension:  3\n",
      "Shape of the array:  (2, 2, 3)\n",
      "Size of the array:  12\n"
     ]
    }
   ],
   "source": [
    "#finding the number of dimensions\n",
    "print(\"No. of dimension: \",arr3.ndim) \n",
    "\n",
    "#finding the shape of an array\n",
    "print(\"Shape of the array: \",arr3.shape)\n",
    "\n",
    "#finding the size(total number of elements) of an array\n",
    "print(\"Size of the array: \",arr3.size)"
   ]
  },
  {
   "cell_type": "code",
   "execution_count": 8,
   "id": "24d7d51a",
   "metadata": {},
   "outputs": [
    {
     "name": "stdout",
     "output_type": "stream",
     "text": [
      "Array created using passed list:\n",
      " [[1. 2. 3.]\n",
      " [4. 5. 6.]]\n"
     ]
    }
   ],
   "source": [
    "# Creating array from the list having float data type\n",
    "a = np.array([[1,2,3],[4,5,6]], dtype='float')\n",
    "print(\"Array created using passed list:\\n\",a)"
   ]
  },
  {
   "cell_type": "code",
   "execution_count": 9,
   "id": "587a9a26",
   "metadata": {},
   "outputs": [
    {
     "name": "stdout",
     "output_type": "stream",
     "text": [
      "\n",
      "Array created using passed tuple:\n",
      " [1 2 3]\n"
     ]
    }
   ],
   "source": [
    "#Creating array from tuple\n",
    "b = np.array((1,2,3))\n",
    "print(\"\\nArray created using passed tuple:\\n\",b)"
   ]
  },
  {
   "cell_type": "code",
   "execution_count": 10,
   "id": "99bc4582",
   "metadata": {},
   "outputs": [
    {
     "name": "stdout",
     "output_type": "stream",
     "text": [
      "\n",
      "An array initialized with all zeros:\n",
      " [[0. 0. 0. 0.]\n",
      " [0. 0. 0. 0.]\n",
      " [0. 0. 0. 0.]]\n"
     ]
    }
   ],
   "source": [
    "#Creating an array 3X4 with all zeroes\n",
    "c = np.zeros((3,4))\n",
    "print(\"\\nAn array initialized with all zeros:\\n\",c)"
   ]
  },
  {
   "cell_type": "code",
   "execution_count": 11,
   "id": "e124976e",
   "metadata": {},
   "outputs": [
    {
     "name": "stdout",
     "output_type": "stream",
     "text": [
      "\n",
      "An array initialized with all 6s. Array type is complex:\n",
      " [[6.+0.j 6.+0.j 6.+0.j 6.+0.j]\n",
      " [6.+0.j 6.+0.j 6.+0.j 6.+0.j]\n",
      " [6.+0.j 6.+0.j 6.+0.j 6.+0.j]]\n"
     ]
    }
   ],
   "source": [
    "#Creating a constant value array of complex type\n",
    "d = np.full((3,4), 6, dtype=\"complex\")\n",
    "print(\"\\nAn array initialized with all 6s. Array type is complex:\\n\",d)\n"
   ]
  },
  {
   "cell_type": "code",
   "execution_count": 16,
   "id": "71e05d92",
   "metadata": {},
   "outputs": [
    {
     "name": "stdout",
     "output_type": "stream",
     "text": [
      "\n",
      "A random array:\n",
      " [[0.82425192 0.79870311]\n",
      " [0.40533161 0.58838087]]\n"
     ]
    }
   ],
   "source": [
    "# Creating an array with random values\n",
    "e = np.random.random((2,2))\n",
    "print(\"\\nA random array:\\n\",e)"
   ]
  },
  {
   "cell_type": "code",
   "execution_count": 19,
   "id": "4941035b",
   "metadata": {},
   "outputs": [
    {
     "name": "stdout",
     "output_type": "stream",
     "text": [
      "\n",
      "A sequence of array with step 5 from 0 to 31:\n",
      " [ 0  5 10 15 20 25 30]\n"
     ]
    }
   ],
   "source": [
    "#create an array from 0 to 30 with step 5\n",
    "f = np.arange(0,31,5)\n",
    "print(\"\\nA sequence of array with step 5 from 0 to 31:\\n\",f)"
   ]
  },
  {
   "cell_type": "code",
   "execution_count": 23,
   "id": "f1a81960",
   "metadata": {},
   "outputs": [
    {
     "name": "stdout",
     "output_type": "stream",
     "text": [
      "[10.5 11.  11.5 12.  12.5 13.  13.5 14.  14.5 15. ]\n"
     ]
    }
   ],
   "source": [
    "#Create a sequence of 11 values in the range 0 to 5\n",
    "g = np.linspace(10.5,15,10)\n",
    "print(g) "
   ]
  },
  {
   "cell_type": "code",
   "execution_count": 25,
   "id": "08b8d983",
   "metadata": {},
   "outputs": [
    {
     "name": "stdout",
     "output_type": "stream",
     "text": [
      "[10. 11. 12. 13. 14. 15. 16. 17. 18. 19. 20.]\n"
     ]
    }
   ],
   "source": [
    "h = np.linspace(10,20,11)\n",
    "print(h)"
   ]
  },
  {
   "cell_type": "code",
   "execution_count": 37,
   "id": "70e75230",
   "metadata": {},
   "outputs": [
    {
     "name": "stdout",
     "output_type": "stream",
     "text": [
      "\n",
      "Original Array:\n",
      " [[1 2 3 4]\n",
      " [4 5 6 7]\n",
      " [3 4 6 9]]\n",
      "\n",
      "New array:\n",
      " [[[1 2 3]\n",
      "  [4 4 5]]\n",
      "\n",
      " [[6 7 3]\n",
      "  [4 6 9]]]\n",
      "\n",
      "\n",
      "(2, 2, 3)\n",
      "3\n"
     ]
    }
   ],
   "source": [
    "#Reshaping array\n",
    "arr4 = np.array([[1,2,3,4],\n",
    "                 [4,5,6,7],\n",
    "                 [3,4,6,9]])\n",
    "\n",
    "newarr4 = arr4.reshape(2,2,3)\n",
    "print(\"\\nOriginal Array:\\n\",arr4)\n",
    "print(\"\\nNew array:\\n\",newarr4)\n",
    "print(\"\\n\")\n",
    "print(newarr4.shape)\n",
    "print(newarr4.ndim)"
   ]
  },
  {
   "cell_type": "code",
   "execution_count": 40,
   "id": "e0f0462c",
   "metadata": {},
   "outputs": [
    {
     "name": "stdout",
     "output_type": "stream",
     "text": [
      "\n",
      "Original Array:\n",
      " [[1 2 3]\n",
      " [4 5 6]]\n",
      "\n",
      "New Array:\n",
      " [1 2 3 4 5 6]\n",
      "1\n"
     ]
    }
   ],
   "source": [
    "#Flatten array\n",
    "arr5 = np.array([[1,2,3],[4,5,6]])\n",
    "flarr = arr5.flatten()\n",
    "print(\"\\nOriginal Array:\\n\",arr5)\n",
    "print(\"\\nNew Array:\\n\",flarr)\n",
    "print(flarr.ndim)"
   ]
  },
  {
   "cell_type": "code",
   "execution_count": 47,
   "id": "c012a501",
   "metadata": {},
   "outputs": [
    {
     "name": "stdout",
     "output_type": "stream",
     "text": [
      "[[0.99204711 0.81561018 0.70968117]\n",
      " [0.69027109 0.83723765 0.86197212]]\n",
      "\n",
      "\n",
      "[0.36900615 0.43739166 0.42923835 0.23600744 0.0766677 ]\n"
     ]
    }
   ],
   "source": [
    "#creating an array of the give shape and populate it\n",
    "#with random samples from a uniform distribution over(0,1)\n",
    "arr6 = np.random.rand(2,3)\n",
    "print(arr6)\n",
    "print(\"\\n\")\n",
    "arr7 = np.random.rand(5)\n",
    "print(arr7)"
   ]
  },
  {
   "cell_type": "code",
   "execution_count": 53,
   "id": "2be4755e",
   "metadata": {},
   "outputs": [
    {
     "name": "stdout",
     "output_type": "stream",
     "text": [
      "5 random integers between 15 and 30:\n",
      " [20 16 23 19 27]\n"
     ]
    }
   ],
   "source": [
    "#Generating 5 random integer numbers between 15 and 30\n",
    "r = np.random.randint(15,30,5)\n",
    "print(\"5 random integers between 15 and 30:\\n\",r)"
   ]
  },
  {
   "cell_type": "code",
   "execution_count": 63,
   "id": "022eb859",
   "metadata": {},
   "outputs": [
    {
     "name": "stdout",
     "output_type": "stream",
     "text": [
      "[[ 0  1  2  3]\n",
      " [ 4  5  6  7]\n",
      " [ 8  9 10 11]]\n",
      "[[5 6 7]\n",
      " [2 3 8]]\n"
     ]
    }
   ],
   "source": [
    "#np.matrix returns a matrix from ana array like object\n",
    "m = np.matrix(np.arange(12).reshape((3,4)))\n",
    "print(m)\n",
    "\n",
    "n = np.matrix([[5,6,7],[2,3,8]])\n",
    "print(n)"
   ]
  },
  {
   "cell_type": "code",
   "execution_count": 66,
   "id": "7feca853",
   "metadata": {},
   "outputs": [
    {
     "name": "stdout",
     "output_type": "stream",
     "text": [
      "[[1 2]\n",
      " [3 4]]\n",
      "[[4 3]\n",
      " [2 1]]\n",
      "The sum of two arrays:\n",
      " [[5 5]\n",
      " [5 5]]\n",
      "Array multiplication:\n",
      " [[4 6]\n",
      " [6 4]]\n",
      "Matrix multiplication:\n",
      " [[ 8  5]\n",
      " [20 13]]\n"
     ]
    }
   ],
   "source": [
    "#Python program to demonstrate binary operators using Numpy\n",
    "\n",
    "i = np.array([[1,2],\n",
    "             [3,4]])\n",
    "j = np.array([[4,3],\n",
    "             [2,1]])\n",
    "print(i)\n",
    "print(j)\n",
    "\n",
    "#adding arrays\n",
    "print(\"The sum of two arrays:\\n\", i+j)\n",
    "\n",
    "#multiplying arrays(elementwise multiplication)\n",
    "print(\"Array multiplication:\\n\", i*j)\n",
    "\n",
    "#matrix multiplication\n",
    "print(\"Matrix multiplication:\\n\",i.dot(j))\n"
   ]
  },
  {
   "cell_type": "code",
   "execution_count": 65,
   "id": "f46ab49e",
   "metadata": {},
   "outputs": [],
   "source": [
    "#PANDAS"
   ]
  },
  {
   "cell_type": "code",
   "execution_count": 72,
   "id": "a4d7b2a4",
   "metadata": {},
   "outputs": [
    {
     "name": "stdout",
     "output_type": "stream",
     "text": [
      "0    a\n",
      "1    b\n",
      "2    c\n",
      "3    d\n",
      "dtype: object\n"
     ]
    }
   ],
   "source": [
    "import pandas as pd\n",
    "import numpy as np\n",
    "\n",
    "#series\n",
    "data = np.array(['a','b','c','d'])\n",
    "s = pd.Series(data,index=[0,1,2,3])\n",
    "print(s)"
   ]
  },
  {
   "cell_type": "code",
   "execution_count": 74,
   "id": "ffd4382b",
   "metadata": {},
   "outputs": [
    {
     "name": "stdout",
     "output_type": "stream",
     "text": [
      "   0\n",
      "0  1\n",
      "1  2\n",
      "2  3\n",
      "3  4\n",
      "4  5\n"
     ]
    }
   ],
   "source": [
    "#DataFrame\n",
    "data1 = [1,2,3,4,5]\n",
    "df1 = pd.DataFrame(data1)\n",
    "print(df1)"
   ]
  },
  {
   "cell_type": "code",
   "execution_count": 75,
   "id": "35b7071e",
   "metadata": {},
   "outputs": [
    {
     "name": "stdout",
     "output_type": "stream",
     "text": [
      "        0   1\n",
      "0    Alex  10\n",
      "1     Bob  12\n",
      "2  Clarke  13\n"
     ]
    }
   ],
   "source": [
    "data2 = [['Alex',10],['Bob',12],['Clarke',13]]\n",
    "df2 = pd.DataFrame(data2)\n",
    "print(df2)"
   ]
  },
  {
   "cell_type": "code",
   "execution_count": 76,
   "id": "f27ec427",
   "metadata": {},
   "outputs": [
    {
     "name": "stdout",
     "output_type": "stream",
     "text": [
      "    Name  Age\n",
      "0    Tom   28\n",
      "1   Jack   32\n",
      "2  Steve   45\n",
      "3  Ricky   31\n"
     ]
    }
   ],
   "source": [
    "#Creating DataFrame using dictionary\n",
    "data3 = {'Name':['Tom','Jack','Steve','Ricky'],'Age':[28,32,45,31]}\n",
    "df3 = pd.DataFrame(data3)\n",
    "print(df3)"
   ]
  },
  {
   "cell_type": "code",
   "execution_count": 77,
   "id": "0a8d64d0",
   "metadata": {},
   "outputs": [
    {
     "name": "stdout",
     "output_type": "stream",
     "text": [
      "   a   b     c\n",
      "0  1   2   NaN\n",
      "1  5  10  20.0\n"
     ]
    }
   ],
   "source": [
    "data4 = [{'a':1,'b':2},{'a':5,'b':10,'c':20}]\n",
    "df4 = pd.DataFrame(data4)\n",
    "print(df4)"
   ]
  },
  {
   "cell_type": "code",
   "execution_count": 81,
   "id": "8234f28a",
   "metadata": {},
   "outputs": [],
   "source": [
    "#Data Analysis Using Pandas\n",
    "\n",
    "#Reading SCV File with Pandas"
   ]
  },
  {
   "cell_type": "code",
   "execution_count": 83,
   "id": "5ef0d497",
   "metadata": {},
   "outputs": [
    {
     "name": "stdout",
     "output_type": "stream",
     "text": [
      "     Name   Hire Date  Salary  leaves\n",
      "0  Graham  13/02/2022   50000       1\n",
      "1   Harry  20/01/2021  100000       5\n",
      "2    Anna  22/05/2021  150000       8\n",
      "3    Niel  18/11/2021  120000       5\n"
     ]
    }
   ],
   "source": [
    "import pandas as pd\n",
    "df5 = pd.read_csv(\"emp.csv\")\n",
    "print(df5)"
   ]
  },
  {
   "cell_type": "code",
   "execution_count": 91,
   "id": "cce4fc2b",
   "metadata": {},
   "outputs": [
    {
     "name": "stdout",
     "output_type": "stream",
     "text": [
      "0     50000\n",
      "1    100000\n",
      "2    150000\n",
      "3    120000\n",
      "Name: Salary, dtype: int64\n"
     ]
    }
   ],
   "source": [
    "# Reading the data from a specific column\n",
    "print(df5['Salary'])"
   ]
  },
  {
   "cell_type": "code",
   "execution_count": 92,
   "id": "a9774d6a",
   "metadata": {},
   "outputs": [
    {
     "name": "stdout",
     "output_type": "stream",
     "text": [
      "   Salary\n",
      "0   50000\n",
      "1  100000\n",
      "2  150000\n",
      "3  120000\n"
     ]
    }
   ],
   "source": [
    "print(df5[['Salary']]) #With column name"
   ]
  },
  {
   "cell_type": "code",
   "execution_count": 94,
   "id": "27ac51e0",
   "metadata": {},
   "outputs": [
    {
     "data": {
      "text/plain": [
       "420000"
      ]
     },
     "execution_count": 94,
     "metadata": {},
     "output_type": "execute_result"
    }
   ],
   "source": [
    "sum(df5['Salary']) #Sum of the values from a column"
   ]
  },
  {
   "cell_type": "code",
   "execution_count": 86,
   "id": "827a8393",
   "metadata": {},
   "outputs": [
    {
     "data": {
      "text/plain": [
       "19"
      ]
     },
     "execution_count": 86,
     "metadata": {},
     "output_type": "execute_result"
    }
   ],
   "source": [
    "sum(df5['leaves'])"
   ]
  },
  {
   "cell_type": "code",
   "execution_count": 96,
   "id": "6d904350",
   "metadata": {},
   "outputs": [
    {
     "name": "stdout",
     "output_type": "stream",
     "text": [
      "     Name  Salary\n",
      "0  Graham   50000\n",
      "1   Harry  100000\n",
      "2    Anna  150000\n",
      "3    Niel  120000\n"
     ]
    }
   ],
   "source": [
    "print(df5[['Name','Salary']]) #Getting only two columns"
   ]
  },
  {
   "cell_type": "code",
   "execution_count": 103,
   "id": "c1115249",
   "metadata": {},
   "outputs": [
    {
     "name": "stdout",
     "output_type": "stream",
     "text": [
      "     Name   Hire Date  Salary  leaves\n",
      "0  Graham  13/02/2022   50000       1\n",
      "(4, 4)\n"
     ]
    }
   ],
   "source": [
    "#Getting a random row\n",
    "print(df5.sample(n=1))\n",
    "print(df5.shape)"
   ]
  },
  {
   "cell_type": "code",
   "execution_count": null,
   "id": "bdc576af",
   "metadata": {},
   "outputs": [],
   "source": [
    "#Adding new column in dataframe\n"
   ]
  },
  {
   "cell_type": "code",
   "execution_count": 113,
   "id": "1750b146",
   "metadata": {},
   "outputs": [],
   "source": [
    "work_hours = [8,6,7,8]\n",
    "\n",
    "df5['work_hours'] = work_hours"
   ]
  },
  {
   "cell_type": "code",
   "execution_count": 107,
   "id": "29632dac",
   "metadata": {},
   "outputs": [
    {
     "data": {
      "text/html": [
       "<div>\n",
       "<style scoped>\n",
       "    .dataframe tbody tr th:only-of-type {\n",
       "        vertical-align: middle;\n",
       "    }\n",
       "\n",
       "    .dataframe tbody tr th {\n",
       "        vertical-align: top;\n",
       "    }\n",
       "\n",
       "    .dataframe thead th {\n",
       "        text-align: right;\n",
       "    }\n",
       "</style>\n",
       "<table border=\"1\" class=\"dataframe\">\n",
       "  <thead>\n",
       "    <tr style=\"text-align: right;\">\n",
       "      <th></th>\n",
       "      <th>Name</th>\n",
       "      <th>Hire Date</th>\n",
       "      <th>Salary</th>\n",
       "      <th>leaves</th>\n",
       "      <th>work_hours</th>\n",
       "    </tr>\n",
       "  </thead>\n",
       "  <tbody>\n",
       "    <tr>\n",
       "      <th>0</th>\n",
       "      <td>Graham</td>\n",
       "      <td>13/02/2022</td>\n",
       "      <td>50000</td>\n",
       "      <td>1</td>\n",
       "      <td>8</td>\n",
       "    </tr>\n",
       "    <tr>\n",
       "      <th>1</th>\n",
       "      <td>Harry</td>\n",
       "      <td>20/01/2021</td>\n",
       "      <td>100000</td>\n",
       "      <td>5</td>\n",
       "      <td>6</td>\n",
       "    </tr>\n",
       "    <tr>\n",
       "      <th>2</th>\n",
       "      <td>Anna</td>\n",
       "      <td>22/05/2021</td>\n",
       "      <td>150000</td>\n",
       "      <td>8</td>\n",
       "      <td>7</td>\n",
       "    </tr>\n",
       "    <tr>\n",
       "      <th>3</th>\n",
       "      <td>Niel</td>\n",
       "      <td>18/11/2021</td>\n",
       "      <td>120000</td>\n",
       "      <td>5</td>\n",
       "      <td>8</td>\n",
       "    </tr>\n",
       "  </tbody>\n",
       "</table>\n",
       "</div>"
      ],
      "text/plain": [
       "     Name   Hire Date  Salary  leaves  work_hours\n",
       "0  Graham  13/02/2022   50000       1           8\n",
       "1   Harry  20/01/2021  100000       5           6\n",
       "2    Anna  22/05/2021  150000       8           7\n",
       "3    Niel  18/11/2021  120000       5           8"
      ]
     },
     "execution_count": 107,
     "metadata": {},
     "output_type": "execute_result"
    }
   ],
   "source": [
    "df5"
   ]
  },
  {
   "cell_type": "code",
   "execution_count": 114,
   "id": "8149c4b8",
   "metadata": {},
   "outputs": [],
   "source": [
    "address = ['Baneshwor','Thapathali','Lalitpur','Baluwatar']\n",
    "df5['Address'] = address"
   ]
  },
  {
   "cell_type": "code",
   "execution_count": 115,
   "id": "cf5fc2a4",
   "metadata": {},
   "outputs": [
    {
     "data": {
      "text/html": [
       "<div>\n",
       "<style scoped>\n",
       "    .dataframe tbody tr th:only-of-type {\n",
       "        vertical-align: middle;\n",
       "    }\n",
       "\n",
       "    .dataframe tbody tr th {\n",
       "        vertical-align: top;\n",
       "    }\n",
       "\n",
       "    .dataframe thead th {\n",
       "        text-align: right;\n",
       "    }\n",
       "</style>\n",
       "<table border=\"1\" class=\"dataframe\">\n",
       "  <thead>\n",
       "    <tr style=\"text-align: right;\">\n",
       "      <th></th>\n",
       "      <th>Name</th>\n",
       "      <th>Hire Date</th>\n",
       "      <th>Salary</th>\n",
       "      <th>leaves</th>\n",
       "      <th>work_hours</th>\n",
       "      <th>Address</th>\n",
       "    </tr>\n",
       "  </thead>\n",
       "  <tbody>\n",
       "    <tr>\n",
       "      <th>0</th>\n",
       "      <td>Graham</td>\n",
       "      <td>13/02/2022</td>\n",
       "      <td>50000</td>\n",
       "      <td>1</td>\n",
       "      <td>8</td>\n",
       "      <td>Baneshwor</td>\n",
       "    </tr>\n",
       "    <tr>\n",
       "      <th>1</th>\n",
       "      <td>Harry</td>\n",
       "      <td>20/01/2021</td>\n",
       "      <td>100000</td>\n",
       "      <td>5</td>\n",
       "      <td>6</td>\n",
       "      <td>Thapathali</td>\n",
       "    </tr>\n",
       "    <tr>\n",
       "      <th>2</th>\n",
       "      <td>Anna</td>\n",
       "      <td>22/05/2021</td>\n",
       "      <td>150000</td>\n",
       "      <td>8</td>\n",
       "      <td>7</td>\n",
       "      <td>Lalitpur</td>\n",
       "    </tr>\n",
       "    <tr>\n",
       "      <th>3</th>\n",
       "      <td>Niel</td>\n",
       "      <td>18/11/2021</td>\n",
       "      <td>120000</td>\n",
       "      <td>5</td>\n",
       "      <td>8</td>\n",
       "      <td>Baluwatar</td>\n",
       "    </tr>\n",
       "  </tbody>\n",
       "</table>\n",
       "</div>"
      ],
      "text/plain": [
       "     Name   Hire Date  Salary  leaves  work_hours     Address\n",
       "0  Graham  13/02/2022   50000       1           8   Baneshwor\n",
       "1   Harry  20/01/2021  100000       5           6  Thapathali\n",
       "2    Anna  22/05/2021  150000       8           7    Lalitpur\n",
       "3    Niel  18/11/2021  120000       5           8   Baluwatar"
      ]
     },
     "execution_count": 115,
     "metadata": {},
     "output_type": "execute_result"
    }
   ],
   "source": [
    "df5"
   ]
  },
  {
   "cell_type": "code",
   "execution_count": 116,
   "id": "8d2bc931",
   "metadata": {},
   "outputs": [],
   "source": [
    "# DELETING the particular column from DATAFRAME\n"
   ]
  },
  {
   "cell_type": "code",
   "execution_count": 117,
   "id": "5cb54975",
   "metadata": {},
   "outputs": [],
   "source": [
    "del df5['leaves']"
   ]
  },
  {
   "cell_type": "code",
   "execution_count": 118,
   "id": "6b367a5a",
   "metadata": {},
   "outputs": [
    {
     "data": {
      "text/html": [
       "<div>\n",
       "<style scoped>\n",
       "    .dataframe tbody tr th:only-of-type {\n",
       "        vertical-align: middle;\n",
       "    }\n",
       "\n",
       "    .dataframe tbody tr th {\n",
       "        vertical-align: top;\n",
       "    }\n",
       "\n",
       "    .dataframe thead th {\n",
       "        text-align: right;\n",
       "    }\n",
       "</style>\n",
       "<table border=\"1\" class=\"dataframe\">\n",
       "  <thead>\n",
       "    <tr style=\"text-align: right;\">\n",
       "      <th></th>\n",
       "      <th>Name</th>\n",
       "      <th>Hire Date</th>\n",
       "      <th>Salary</th>\n",
       "      <th>work_hours</th>\n",
       "      <th>Address</th>\n",
       "    </tr>\n",
       "  </thead>\n",
       "  <tbody>\n",
       "    <tr>\n",
       "      <th>0</th>\n",
       "      <td>Graham</td>\n",
       "      <td>13/02/2022</td>\n",
       "      <td>50000</td>\n",
       "      <td>8</td>\n",
       "      <td>Baneshwor</td>\n",
       "    </tr>\n",
       "    <tr>\n",
       "      <th>1</th>\n",
       "      <td>Harry</td>\n",
       "      <td>20/01/2021</td>\n",
       "      <td>100000</td>\n",
       "      <td>6</td>\n",
       "      <td>Thapathali</td>\n",
       "    </tr>\n",
       "    <tr>\n",
       "      <th>2</th>\n",
       "      <td>Anna</td>\n",
       "      <td>22/05/2021</td>\n",
       "      <td>150000</td>\n",
       "      <td>7</td>\n",
       "      <td>Lalitpur</td>\n",
       "    </tr>\n",
       "    <tr>\n",
       "      <th>3</th>\n",
       "      <td>Niel</td>\n",
       "      <td>18/11/2021</td>\n",
       "      <td>120000</td>\n",
       "      <td>8</td>\n",
       "      <td>Baluwatar</td>\n",
       "    </tr>\n",
       "  </tbody>\n",
       "</table>\n",
       "</div>"
      ],
      "text/plain": [
       "     Name   Hire Date  Salary  work_hours     Address\n",
       "0  Graham  13/02/2022   50000           8   Baneshwor\n",
       "1   Harry  20/01/2021  100000           6  Thapathali\n",
       "2    Anna  22/05/2021  150000           7    Lalitpur\n",
       "3    Niel  18/11/2021  120000           8   Baluwatar"
      ]
     },
     "execution_count": 118,
     "metadata": {},
     "output_type": "execute_result"
    }
   ],
   "source": [
    "df5"
   ]
  },
  {
   "cell_type": "code",
   "execution_count": 121,
   "id": "5fb0a1e5",
   "metadata": {},
   "outputs": [
    {
     "name": "stdout",
     "output_type": "stream",
     "text": [
      "    Delivery  Score_ind  Score_pk\n",
      "0        0.1          0         0\n",
      "1        0.2          1         0\n",
      "2        0.3          1         4\n",
      "3        0.4          4         4\n",
      "4        0.5          0         1\n",
      "5        0.6          1         2\n",
      "6        1.1          0         4\n",
      "7        1.2          0         6\n",
      "8        1.3          0         2\n",
      "9        1.4          2         4\n",
      "10       1.5          1         6\n",
      "11       1.6          0         1\n",
      "12       2.1          0         0\n",
      "13       2.2          1         0\n",
      "14       2.3          2         4\n",
      "15       2.4          0         6\n",
      "16       2.5          1         6\n",
      "17       2.6          4         0\n",
      "18       3.1          4         0\n",
      "19       3.2          1         0\n",
      "20       3.3          1         1\n",
      "21       3.4          0         1\n",
      "22       3.5          0         1\n",
      "23       3.6          0         1\n"
     ]
    }
   ],
   "source": [
    "df6 = pd.read_csv('cricket.csv')\n",
    "print(df6)"
   ]
  },
  {
   "cell_type": "code",
   "execution_count": 122,
   "id": "04d3cb31",
   "metadata": {},
   "outputs": [
    {
     "data": {
      "text/html": [
       "<div>\n",
       "<style scoped>\n",
       "    .dataframe tbody tr th:only-of-type {\n",
       "        vertical-align: middle;\n",
       "    }\n",
       "\n",
       "    .dataframe tbody tr th {\n",
       "        vertical-align: top;\n",
       "    }\n",
       "\n",
       "    .dataframe thead th {\n",
       "        text-align: right;\n",
       "    }\n",
       "</style>\n",
       "<table border=\"1\" class=\"dataframe\">\n",
       "  <thead>\n",
       "    <tr style=\"text-align: right;\">\n",
       "      <th></th>\n",
       "      <th>Delivery</th>\n",
       "      <th>Score_ind</th>\n",
       "      <th>Score_pk</th>\n",
       "    </tr>\n",
       "  </thead>\n",
       "  <tbody>\n",
       "    <tr>\n",
       "      <th>0</th>\n",
       "      <td>0.1</td>\n",
       "      <td>0</td>\n",
       "      <td>0</td>\n",
       "    </tr>\n",
       "    <tr>\n",
       "      <th>1</th>\n",
       "      <td>0.2</td>\n",
       "      <td>1</td>\n",
       "      <td>0</td>\n",
       "    </tr>\n",
       "    <tr>\n",
       "      <th>2</th>\n",
       "      <td>0.3</td>\n",
       "      <td>1</td>\n",
       "      <td>4</td>\n",
       "    </tr>\n",
       "    <tr>\n",
       "      <th>3</th>\n",
       "      <td>0.4</td>\n",
       "      <td>4</td>\n",
       "      <td>4</td>\n",
       "    </tr>\n",
       "    <tr>\n",
       "      <th>4</th>\n",
       "      <td>0.5</td>\n",
       "      <td>0</td>\n",
       "      <td>1</td>\n",
       "    </tr>\n",
       "  </tbody>\n",
       "</table>\n",
       "</div>"
      ],
      "text/plain": [
       "   Delivery  Score_ind  Score_pk\n",
       "0       0.1          0         0\n",
       "1       0.2          1         0\n",
       "2       0.3          1         4\n",
       "3       0.4          4         4\n",
       "4       0.5          0         1"
      ]
     },
     "execution_count": 122,
     "metadata": {},
     "output_type": "execute_result"
    }
   ],
   "source": [
    "#Viewing only first 5 rows\n",
    "df6.head()"
   ]
  },
  {
   "cell_type": "code",
   "execution_count": 127,
   "id": "81640517",
   "metadata": {},
   "outputs": [
    {
     "data": {
      "text/html": [
       "<div>\n",
       "<style scoped>\n",
       "    .dataframe tbody tr th:only-of-type {\n",
       "        vertical-align: middle;\n",
       "    }\n",
       "\n",
       "    .dataframe tbody tr th {\n",
       "        vertical-align: top;\n",
       "    }\n",
       "\n",
       "    .dataframe thead th {\n",
       "        text-align: right;\n",
       "    }\n",
       "</style>\n",
       "<table border=\"1\" class=\"dataframe\">\n",
       "  <thead>\n",
       "    <tr style=\"text-align: right;\">\n",
       "      <th></th>\n",
       "      <th>Delivery</th>\n",
       "      <th>Score_ind</th>\n",
       "      <th>Score_pk</th>\n",
       "    </tr>\n",
       "  </thead>\n",
       "  <tbody>\n",
       "    <tr>\n",
       "      <th>19</th>\n",
       "      <td>3.2</td>\n",
       "      <td>1</td>\n",
       "      <td>0</td>\n",
       "    </tr>\n",
       "    <tr>\n",
       "      <th>20</th>\n",
       "      <td>3.3</td>\n",
       "      <td>1</td>\n",
       "      <td>1</td>\n",
       "    </tr>\n",
       "    <tr>\n",
       "      <th>21</th>\n",
       "      <td>3.4</td>\n",
       "      <td>0</td>\n",
       "      <td>1</td>\n",
       "    </tr>\n",
       "    <tr>\n",
       "      <th>22</th>\n",
       "      <td>3.5</td>\n",
       "      <td>0</td>\n",
       "      <td>1</td>\n",
       "    </tr>\n",
       "    <tr>\n",
       "      <th>23</th>\n",
       "      <td>3.6</td>\n",
       "      <td>0</td>\n",
       "      <td>1</td>\n",
       "    </tr>\n",
       "  </tbody>\n",
       "</table>\n",
       "</div>"
      ],
      "text/plain": [
       "    Delivery  Score_ind  Score_pk\n",
       "19       3.2          1         0\n",
       "20       3.3          1         1\n",
       "21       3.4          0         1\n",
       "22       3.5          0         1\n",
       "23       3.6          0         1"
      ]
     },
     "execution_count": 127,
     "metadata": {},
     "output_type": "execute_result"
    }
   ],
   "source": [
    "#viewing last 5 rows\n",
    "df6.tail()"
   ]
  },
  {
   "cell_type": "code",
   "execution_count": 128,
   "id": "49a2fb81",
   "metadata": {},
   "outputs": [
    {
     "data": {
      "text/html": [
       "<div>\n",
       "<style scoped>\n",
       "    .dataframe tbody tr th:only-of-type {\n",
       "        vertical-align: middle;\n",
       "    }\n",
       "\n",
       "    .dataframe tbody tr th {\n",
       "        vertical-align: top;\n",
       "    }\n",
       "\n",
       "    .dataframe thead th {\n",
       "        text-align: right;\n",
       "    }\n",
       "</style>\n",
       "<table border=\"1\" class=\"dataframe\">\n",
       "  <thead>\n",
       "    <tr style=\"text-align: right;\">\n",
       "      <th></th>\n",
       "      <th>Delivery</th>\n",
       "      <th>Score_ind</th>\n",
       "      <th>Score_pk</th>\n",
       "    </tr>\n",
       "  </thead>\n",
       "  <tbody>\n",
       "    <tr>\n",
       "      <th>0</th>\n",
       "      <td>0.1</td>\n",
       "      <td>0</td>\n",
       "      <td>0</td>\n",
       "    </tr>\n",
       "    <tr>\n",
       "      <th>1</th>\n",
       "      <td>0.2</td>\n",
       "      <td>1</td>\n",
       "      <td>0</td>\n",
       "    </tr>\n",
       "    <tr>\n",
       "      <th>2</th>\n",
       "      <td>0.3</td>\n",
       "      <td>1</td>\n",
       "      <td>4</td>\n",
       "    </tr>\n",
       "    <tr>\n",
       "      <th>3</th>\n",
       "      <td>0.4</td>\n",
       "      <td>4</td>\n",
       "      <td>4</td>\n",
       "    </tr>\n",
       "    <tr>\n",
       "      <th>4</th>\n",
       "      <td>0.5</td>\n",
       "      <td>0</td>\n",
       "      <td>1</td>\n",
       "    </tr>\n",
       "    <tr>\n",
       "      <th>5</th>\n",
       "      <td>0.6</td>\n",
       "      <td>1</td>\n",
       "      <td>2</td>\n",
       "    </tr>\n",
       "    <tr>\n",
       "      <th>6</th>\n",
       "      <td>1.1</td>\n",
       "      <td>0</td>\n",
       "      <td>4</td>\n",
       "    </tr>\n",
       "    <tr>\n",
       "      <th>7</th>\n",
       "      <td>1.2</td>\n",
       "      <td>0</td>\n",
       "      <td>6</td>\n",
       "    </tr>\n",
       "    <tr>\n",
       "      <th>8</th>\n",
       "      <td>1.3</td>\n",
       "      <td>0</td>\n",
       "      <td>2</td>\n",
       "    </tr>\n",
       "    <tr>\n",
       "      <th>9</th>\n",
       "      <td>1.4</td>\n",
       "      <td>2</td>\n",
       "      <td>4</td>\n",
       "    </tr>\n",
       "  </tbody>\n",
       "</table>\n",
       "</div>"
      ],
      "text/plain": [
       "   Delivery  Score_ind  Score_pk\n",
       "0       0.1          0         0\n",
       "1       0.2          1         0\n",
       "2       0.3          1         4\n",
       "3       0.4          4         4\n",
       "4       0.5          0         1\n",
       "5       0.6          1         2\n",
       "6       1.1          0         4\n",
       "7       1.2          0         6\n",
       "8       1.3          0         2\n",
       "9       1.4          2         4"
      ]
     },
     "execution_count": 128,
     "metadata": {},
     "output_type": "execute_result"
    }
   ],
   "source": [
    "#viewing first 10 rows\n",
    "df6.head(10)"
   ]
  },
  {
   "cell_type": "code",
   "execution_count": 129,
   "id": "2f2fde46",
   "metadata": {},
   "outputs": [
    {
     "data": {
      "text/html": [
       "<div>\n",
       "<style scoped>\n",
       "    .dataframe tbody tr th:only-of-type {\n",
       "        vertical-align: middle;\n",
       "    }\n",
       "\n",
       "    .dataframe tbody tr th {\n",
       "        vertical-align: top;\n",
       "    }\n",
       "\n",
       "    .dataframe thead th {\n",
       "        text-align: right;\n",
       "    }\n",
       "</style>\n",
       "<table border=\"1\" class=\"dataframe\">\n",
       "  <thead>\n",
       "    <tr style=\"text-align: right;\">\n",
       "      <th></th>\n",
       "      <th>Delivery</th>\n",
       "      <th>Score_ind</th>\n",
       "      <th>Score_pk</th>\n",
       "    </tr>\n",
       "  </thead>\n",
       "  <tbody>\n",
       "    <tr>\n",
       "      <th>14</th>\n",
       "      <td>2.3</td>\n",
       "      <td>2</td>\n",
       "      <td>4</td>\n",
       "    </tr>\n",
       "    <tr>\n",
       "      <th>15</th>\n",
       "      <td>2.4</td>\n",
       "      <td>0</td>\n",
       "      <td>6</td>\n",
       "    </tr>\n",
       "    <tr>\n",
       "      <th>16</th>\n",
       "      <td>2.5</td>\n",
       "      <td>1</td>\n",
       "      <td>6</td>\n",
       "    </tr>\n",
       "    <tr>\n",
       "      <th>17</th>\n",
       "      <td>2.6</td>\n",
       "      <td>4</td>\n",
       "      <td>0</td>\n",
       "    </tr>\n",
       "    <tr>\n",
       "      <th>18</th>\n",
       "      <td>3.1</td>\n",
       "      <td>4</td>\n",
       "      <td>0</td>\n",
       "    </tr>\n",
       "    <tr>\n",
       "      <th>19</th>\n",
       "      <td>3.2</td>\n",
       "      <td>1</td>\n",
       "      <td>0</td>\n",
       "    </tr>\n",
       "    <tr>\n",
       "      <th>20</th>\n",
       "      <td>3.3</td>\n",
       "      <td>1</td>\n",
       "      <td>1</td>\n",
       "    </tr>\n",
       "    <tr>\n",
       "      <th>21</th>\n",
       "      <td>3.4</td>\n",
       "      <td>0</td>\n",
       "      <td>1</td>\n",
       "    </tr>\n",
       "    <tr>\n",
       "      <th>22</th>\n",
       "      <td>3.5</td>\n",
       "      <td>0</td>\n",
       "      <td>1</td>\n",
       "    </tr>\n",
       "    <tr>\n",
       "      <th>23</th>\n",
       "      <td>3.6</td>\n",
       "      <td>0</td>\n",
       "      <td>1</td>\n",
       "    </tr>\n",
       "  </tbody>\n",
       "</table>\n",
       "</div>"
      ],
      "text/plain": [
       "    Delivery  Score_ind  Score_pk\n",
       "14       2.3          2         4\n",
       "15       2.4          0         6\n",
       "16       2.5          1         6\n",
       "17       2.6          4         0\n",
       "18       3.1          4         0\n",
       "19       3.2          1         0\n",
       "20       3.3          1         1\n",
       "21       3.4          0         1\n",
       "22       3.5          0         1\n",
       "23       3.6          0         1"
      ]
     },
     "execution_count": 129,
     "metadata": {},
     "output_type": "execute_result"
    }
   ],
   "source": [
    "df6.tail(10) #last 10 rows"
   ]
  },
  {
   "cell_type": "code",
   "execution_count": 132,
   "id": "18e74612",
   "metadata": {},
   "outputs": [
    {
     "data": {
      "text/plain": [
       "0    0.1\n",
       "1    0.2\n",
       "2    0.3\n",
       "3    0.4\n",
       "4    0.5\n",
       "Name: Delivery, dtype: float64"
      ]
     },
     "execution_count": 132,
     "metadata": {},
     "output_type": "execute_result"
    }
   ],
   "source": [
    "#viewing first 5 rows from a particular column\n",
    "df6['Delivery'].head() "
   ]
  },
  {
   "cell_type": "code",
   "execution_count": 134,
   "id": "82f00ba8",
   "metadata": {},
   "outputs": [
    {
     "data": {
      "text/plain": [
       "0    0\n",
       "1    1\n",
       "2    1\n",
       "3    4\n",
       "4    0\n",
       "5    1\n",
       "6    0\n",
       "Name: Score_ind, dtype: int64"
      ]
     },
     "execution_count": 134,
     "metadata": {},
     "output_type": "execute_result"
    }
   ],
   "source": [
    "df6['Score_ind'].head(7)"
   ]
  },
  {
   "cell_type": "code",
   "execution_count": null,
   "id": "cdcf5e29",
   "metadata": {},
   "outputs": [],
   "source": []
  },
  {
   "cell_type": "markdown",
   "id": "bd087f98",
   "metadata": {},
   "source": [
    "### Sorting the DataFrame based on a column"
   ]
  },
  {
   "cell_type": "code",
   "execution_count": 135,
   "id": "66a103c6",
   "metadata": {},
   "outputs": [
    {
     "data": {
      "text/html": [
       "<div>\n",
       "<style scoped>\n",
       "    .dataframe tbody tr th:only-of-type {\n",
       "        vertical-align: middle;\n",
       "    }\n",
       "\n",
       "    .dataframe tbody tr th {\n",
       "        vertical-align: top;\n",
       "    }\n",
       "\n",
       "    .dataframe thead th {\n",
       "        text-align: right;\n",
       "    }\n",
       "</style>\n",
       "<table border=\"1\" class=\"dataframe\">\n",
       "  <thead>\n",
       "    <tr style=\"text-align: right;\">\n",
       "      <th></th>\n",
       "      <th>Delivery</th>\n",
       "      <th>Score_ind</th>\n",
       "      <th>Score_pk</th>\n",
       "    </tr>\n",
       "  </thead>\n",
       "  <tbody>\n",
       "    <tr>\n",
       "      <th>0</th>\n",
       "      <td>0.1</td>\n",
       "      <td>0</td>\n",
       "      <td>0</td>\n",
       "    </tr>\n",
       "    <tr>\n",
       "      <th>21</th>\n",
       "      <td>3.4</td>\n",
       "      <td>0</td>\n",
       "      <td>1</td>\n",
       "    </tr>\n",
       "    <tr>\n",
       "      <th>15</th>\n",
       "      <td>2.4</td>\n",
       "      <td>0</td>\n",
       "      <td>6</td>\n",
       "    </tr>\n",
       "    <tr>\n",
       "      <th>12</th>\n",
       "      <td>2.1</td>\n",
       "      <td>0</td>\n",
       "      <td>0</td>\n",
       "    </tr>\n",
       "    <tr>\n",
       "      <th>22</th>\n",
       "      <td>3.5</td>\n",
       "      <td>0</td>\n",
       "      <td>1</td>\n",
       "    </tr>\n",
       "    <tr>\n",
       "      <th>8</th>\n",
       "      <td>1.3</td>\n",
       "      <td>0</td>\n",
       "      <td>2</td>\n",
       "    </tr>\n",
       "    <tr>\n",
       "      <th>7</th>\n",
       "      <td>1.2</td>\n",
       "      <td>0</td>\n",
       "      <td>6</td>\n",
       "    </tr>\n",
       "    <tr>\n",
       "      <th>11</th>\n",
       "      <td>1.6</td>\n",
       "      <td>0</td>\n",
       "      <td>1</td>\n",
       "    </tr>\n",
       "    <tr>\n",
       "      <th>4</th>\n",
       "      <td>0.5</td>\n",
       "      <td>0</td>\n",
       "      <td>1</td>\n",
       "    </tr>\n",
       "    <tr>\n",
       "      <th>6</th>\n",
       "      <td>1.1</td>\n",
       "      <td>0</td>\n",
       "      <td>4</td>\n",
       "    </tr>\n",
       "    <tr>\n",
       "      <th>23</th>\n",
       "      <td>3.6</td>\n",
       "      <td>0</td>\n",
       "      <td>1</td>\n",
       "    </tr>\n",
       "    <tr>\n",
       "      <th>5</th>\n",
       "      <td>0.6</td>\n",
       "      <td>1</td>\n",
       "      <td>2</td>\n",
       "    </tr>\n",
       "    <tr>\n",
       "      <th>10</th>\n",
       "      <td>1.5</td>\n",
       "      <td>1</td>\n",
       "      <td>6</td>\n",
       "    </tr>\n",
       "    <tr>\n",
       "      <th>13</th>\n",
       "      <td>2.2</td>\n",
       "      <td>1</td>\n",
       "      <td>0</td>\n",
       "    </tr>\n",
       "    <tr>\n",
       "      <th>2</th>\n",
       "      <td>0.3</td>\n",
       "      <td>1</td>\n",
       "      <td>4</td>\n",
       "    </tr>\n",
       "    <tr>\n",
       "      <th>16</th>\n",
       "      <td>2.5</td>\n",
       "      <td>1</td>\n",
       "      <td>6</td>\n",
       "    </tr>\n",
       "    <tr>\n",
       "      <th>19</th>\n",
       "      <td>3.2</td>\n",
       "      <td>1</td>\n",
       "      <td>0</td>\n",
       "    </tr>\n",
       "    <tr>\n",
       "      <th>20</th>\n",
       "      <td>3.3</td>\n",
       "      <td>1</td>\n",
       "      <td>1</td>\n",
       "    </tr>\n",
       "    <tr>\n",
       "      <th>1</th>\n",
       "      <td>0.2</td>\n",
       "      <td>1</td>\n",
       "      <td>0</td>\n",
       "    </tr>\n",
       "    <tr>\n",
       "      <th>9</th>\n",
       "      <td>1.4</td>\n",
       "      <td>2</td>\n",
       "      <td>4</td>\n",
       "    </tr>\n",
       "    <tr>\n",
       "      <th>14</th>\n",
       "      <td>2.3</td>\n",
       "      <td>2</td>\n",
       "      <td>4</td>\n",
       "    </tr>\n",
       "    <tr>\n",
       "      <th>3</th>\n",
       "      <td>0.4</td>\n",
       "      <td>4</td>\n",
       "      <td>4</td>\n",
       "    </tr>\n",
       "    <tr>\n",
       "      <th>17</th>\n",
       "      <td>2.6</td>\n",
       "      <td>4</td>\n",
       "      <td>0</td>\n",
       "    </tr>\n",
       "    <tr>\n",
       "      <th>18</th>\n",
       "      <td>3.1</td>\n",
       "      <td>4</td>\n",
       "      <td>0</td>\n",
       "    </tr>\n",
       "  </tbody>\n",
       "</table>\n",
       "</div>"
      ],
      "text/plain": [
       "    Delivery  Score_ind  Score_pk\n",
       "0        0.1          0         0\n",
       "21       3.4          0         1\n",
       "15       2.4          0         6\n",
       "12       2.1          0         0\n",
       "22       3.5          0         1\n",
       "8        1.3          0         2\n",
       "7        1.2          0         6\n",
       "11       1.6          0         1\n",
       "4        0.5          0         1\n",
       "6        1.1          0         4\n",
       "23       3.6          0         1\n",
       "5        0.6          1         2\n",
       "10       1.5          1         6\n",
       "13       2.2          1         0\n",
       "2        0.3          1         4\n",
       "16       2.5          1         6\n",
       "19       3.2          1         0\n",
       "20       3.3          1         1\n",
       "1        0.2          1         0\n",
       "9        1.4          2         4\n",
       "14       2.3          2         4\n",
       "3        0.4          4         4\n",
       "17       2.6          4         0\n",
       "18       3.1          4         0"
      ]
     },
     "execution_count": 135,
     "metadata": {},
     "output_type": "execute_result"
    }
   ],
   "source": [
    "df6.sort_values('Score_ind')"
   ]
  },
  {
   "cell_type": "code",
   "execution_count": 137,
   "id": "d7ffe9e2",
   "metadata": {},
   "outputs": [
    {
     "data": {
      "text/html": [
       "<div>\n",
       "<style scoped>\n",
       "    .dataframe tbody tr th:only-of-type {\n",
       "        vertical-align: middle;\n",
       "    }\n",
       "\n",
       "    .dataframe tbody tr th {\n",
       "        vertical-align: top;\n",
       "    }\n",
       "\n",
       "    .dataframe thead th {\n",
       "        text-align: right;\n",
       "    }\n",
       "</style>\n",
       "<table border=\"1\" class=\"dataframe\">\n",
       "  <thead>\n",
       "    <tr style=\"text-align: right;\">\n",
       "      <th></th>\n",
       "      <th>Delivery</th>\n",
       "      <th>Score_ind</th>\n",
       "      <th>Score_pk</th>\n",
       "    </tr>\n",
       "  </thead>\n",
       "  <tbody>\n",
       "    <tr>\n",
       "      <th>16</th>\n",
       "      <td>2.5</td>\n",
       "      <td>1</td>\n",
       "      <td>6</td>\n",
       "    </tr>\n",
       "    <tr>\n",
       "      <th>7</th>\n",
       "      <td>1.2</td>\n",
       "      <td>0</td>\n",
       "      <td>6</td>\n",
       "    </tr>\n",
       "    <tr>\n",
       "      <th>15</th>\n",
       "      <td>2.4</td>\n",
       "      <td>0</td>\n",
       "      <td>6</td>\n",
       "    </tr>\n",
       "    <tr>\n",
       "      <th>10</th>\n",
       "      <td>1.5</td>\n",
       "      <td>1</td>\n",
       "      <td>6</td>\n",
       "    </tr>\n",
       "    <tr>\n",
       "      <th>9</th>\n",
       "      <td>1.4</td>\n",
       "      <td>2</td>\n",
       "      <td>4</td>\n",
       "    </tr>\n",
       "    <tr>\n",
       "      <th>2</th>\n",
       "      <td>0.3</td>\n",
       "      <td>1</td>\n",
       "      <td>4</td>\n",
       "    </tr>\n",
       "    <tr>\n",
       "      <th>3</th>\n",
       "      <td>0.4</td>\n",
       "      <td>4</td>\n",
       "      <td>4</td>\n",
       "    </tr>\n",
       "    <tr>\n",
       "      <th>6</th>\n",
       "      <td>1.1</td>\n",
       "      <td>0</td>\n",
       "      <td>4</td>\n",
       "    </tr>\n",
       "    <tr>\n",
       "      <th>14</th>\n",
       "      <td>2.3</td>\n",
       "      <td>2</td>\n",
       "      <td>4</td>\n",
       "    </tr>\n",
       "    <tr>\n",
       "      <th>5</th>\n",
       "      <td>0.6</td>\n",
       "      <td>1</td>\n",
       "      <td>2</td>\n",
       "    </tr>\n",
       "    <tr>\n",
       "      <th>8</th>\n",
       "      <td>1.3</td>\n",
       "      <td>0</td>\n",
       "      <td>2</td>\n",
       "    </tr>\n",
       "    <tr>\n",
       "      <th>21</th>\n",
       "      <td>3.4</td>\n",
       "      <td>0</td>\n",
       "      <td>1</td>\n",
       "    </tr>\n",
       "    <tr>\n",
       "      <th>23</th>\n",
       "      <td>3.6</td>\n",
       "      <td>0</td>\n",
       "      <td>1</td>\n",
       "    </tr>\n",
       "    <tr>\n",
       "      <th>22</th>\n",
       "      <td>3.5</td>\n",
       "      <td>0</td>\n",
       "      <td>1</td>\n",
       "    </tr>\n",
       "    <tr>\n",
       "      <th>11</th>\n",
       "      <td>1.6</td>\n",
       "      <td>0</td>\n",
       "      <td>1</td>\n",
       "    </tr>\n",
       "    <tr>\n",
       "      <th>4</th>\n",
       "      <td>0.5</td>\n",
       "      <td>0</td>\n",
       "      <td>1</td>\n",
       "    </tr>\n",
       "    <tr>\n",
       "      <th>20</th>\n",
       "      <td>3.3</td>\n",
       "      <td>1</td>\n",
       "      <td>1</td>\n",
       "    </tr>\n",
       "    <tr>\n",
       "      <th>19</th>\n",
       "      <td>3.2</td>\n",
       "      <td>1</td>\n",
       "      <td>0</td>\n",
       "    </tr>\n",
       "    <tr>\n",
       "      <th>0</th>\n",
       "      <td>0.1</td>\n",
       "      <td>0</td>\n",
       "      <td>0</td>\n",
       "    </tr>\n",
       "    <tr>\n",
       "      <th>18</th>\n",
       "      <td>3.1</td>\n",
       "      <td>4</td>\n",
       "      <td>0</td>\n",
       "    </tr>\n",
       "    <tr>\n",
       "      <th>17</th>\n",
       "      <td>2.6</td>\n",
       "      <td>4</td>\n",
       "      <td>0</td>\n",
       "    </tr>\n",
       "    <tr>\n",
       "      <th>13</th>\n",
       "      <td>2.2</td>\n",
       "      <td>1</td>\n",
       "      <td>0</td>\n",
       "    </tr>\n",
       "    <tr>\n",
       "      <th>1</th>\n",
       "      <td>0.2</td>\n",
       "      <td>1</td>\n",
       "      <td>0</td>\n",
       "    </tr>\n",
       "    <tr>\n",
       "      <th>12</th>\n",
       "      <td>2.1</td>\n",
       "      <td>0</td>\n",
       "      <td>0</td>\n",
       "    </tr>\n",
       "  </tbody>\n",
       "</table>\n",
       "</div>"
      ],
      "text/plain": [
       "    Delivery  Score_ind  Score_pk\n",
       "16       2.5          1         6\n",
       "7        1.2          0         6\n",
       "15       2.4          0         6\n",
       "10       1.5          1         6\n",
       "9        1.4          2         4\n",
       "2        0.3          1         4\n",
       "3        0.4          4         4\n",
       "6        1.1          0         4\n",
       "14       2.3          2         4\n",
       "5        0.6          1         2\n",
       "8        1.3          0         2\n",
       "21       3.4          0         1\n",
       "23       3.6          0         1\n",
       "22       3.5          0         1\n",
       "11       1.6          0         1\n",
       "4        0.5          0         1\n",
       "20       3.3          1         1\n",
       "19       3.2          1         0\n",
       "0        0.1          0         0\n",
       "18       3.1          4         0\n",
       "17       2.6          4         0\n",
       "13       2.2          1         0\n",
       "1        0.2          1         0\n",
       "12       2.1          0         0"
      ]
     },
     "execution_count": 137,
     "metadata": {},
     "output_type": "execute_result"
    }
   ],
   "source": [
    "#sorting in descending order\n",
    "df6.sort_values('Score_pk', ascending = False)"
   ]
  },
  {
   "cell_type": "code",
   "execution_count": 138,
   "id": "333e59b7",
   "metadata": {},
   "outputs": [
    {
     "data": {
      "text/plain": [
       "Delivery     24\n",
       "Score_ind     4\n",
       "Score_pk      5\n",
       "dtype: int64"
      ]
     },
     "execution_count": 138,
     "metadata": {},
     "output_type": "execute_result"
    }
   ],
   "source": [
    "#Counting the number of unique values that occur in dataset or in a column\n",
    "df6.nunique()"
   ]
  },
  {
   "cell_type": "code",
   "execution_count": 139,
   "id": "24e54403",
   "metadata": {},
   "outputs": [
    {
     "data": {
      "text/plain": [
       "24"
      ]
     },
     "execution_count": 139,
     "metadata": {},
     "output_type": "execute_result"
    }
   ],
   "source": [
    "sum(df6['Score_ind']) #total sum of a particular column"
   ]
  },
  {
   "cell_type": "code",
   "execution_count": 140,
   "id": "1a98a1c8",
   "metadata": {},
   "outputs": [
    {
     "data": {
      "text/plain": [
       "54"
      ]
     },
     "execution_count": 140,
     "metadata": {},
     "output_type": "execute_result"
    }
   ],
   "source": [
    "sum(df6['Score_pk'])"
   ]
  },
  {
   "cell_type": "code",
   "execution_count": null,
   "id": "ee47b230",
   "metadata": {},
   "outputs": [],
   "source": []
  }
 ],
 "metadata": {
  "kernelspec": {
   "display_name": "Python 3 (ipykernel)",
   "language": "python",
   "name": "python3"
  },
  "language_info": {
   "codemirror_mode": {
    "name": "ipython",
    "version": 3
   },
   "file_extension": ".py",
   "mimetype": "text/x-python",
   "name": "python",
   "nbconvert_exporter": "python",
   "pygments_lexer": "ipython3",
   "version": "3.9.13"
  }
 },
 "nbformat": 4,
 "nbformat_minor": 5
}
