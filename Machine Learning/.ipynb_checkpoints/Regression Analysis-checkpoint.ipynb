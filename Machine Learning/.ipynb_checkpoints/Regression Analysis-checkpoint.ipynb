{
 "cells": [
  {
   "cell_type": "markdown",
   "id": "78b145af",
   "metadata": {},
   "source": [
    "## Linear Regression"
   ]
  },
  {
   "cell_type": "code",
   "execution_count": 4,
   "id": "b0b004ac",
   "metadata": {},
   "outputs": [],
   "source": [
    "#Step 1: Import the packages\n",
    "import numpy as np\n",
    "from sklearn.linear_model import LinearRegression\n",
    "\n",
    "#Step 2: Provide data\n",
    "x = np.array([150,155,160,157,162,165,168,170,140,145,175,178,180]).reshape((-1,1)) #reshape(-1,1) is used to make it one dimensional\n",
    "y = np.array([50,52,54,58,62,63,66,68,45,47,70,72,73])\n"
   ]
  },
  {
   "cell_type": "code",
   "execution_count": 8,
   "id": "6bc83c92",
   "metadata": {},
   "outputs": [
    {
     "data": {
      "text/plain": [
       "(13, 1)"
      ]
     },
     "execution_count": 8,
     "metadata": {},
     "output_type": "execute_result"
    }
   ],
   "source": [
    "x.shape\n"
   ]
  },
  {
   "cell_type": "code",
   "execution_count": 9,
   "id": "6f600d50",
   "metadata": {},
   "outputs": [
    {
     "data": {
      "text/plain": [
       "(13,)"
      ]
     },
     "execution_count": 9,
     "metadata": {},
     "output_type": "execute_result"
    }
   ],
   "source": [
    "y.shape"
   ]
  },
  {
   "cell_type": "code",
   "execution_count": 11,
   "id": "d676d8b8",
   "metadata": {},
   "outputs": [
    {
     "data": {
      "text/plain": [
       "LinearRegression()"
      ]
     },
     "execution_count": 11,
     "metadata": {},
     "output_type": "execute_result"
    }
   ],
   "source": [
    "#Step 3: Creating model and fit it\n",
    "model = LinearRegression()\n",
    "model.fit(x,y) #or model = LinearRegression().fit(x,y)"
   ]
  },
  {
   "cell_type": "code",
   "execution_count": 15,
   "id": "356318d9",
   "metadata": {},
   "outputs": [
    {
     "name": "stdout",
     "output_type": "stream",
     "text": [
      "intercept: -63.56650614413813\n",
      "slope: [0.76311857]\n"
     ]
    }
   ],
   "source": [
    "#Get Result\n",
    "print('intercept:', model.intercept_)\n",
    "print('slope:', model.coef_)"
   ]
  },
  {
   "cell_type": "code",
   "execution_count": 16,
   "id": "de83e89f",
   "metadata": {},
   "outputs": [
    {
     "name": "stdout",
     "output_type": "stream",
     "text": [
      "Predicted Response: [50.90127864 54.71687147 58.5324643  56.2431086  60.05870143 62.34805712\n",
      " 64.63741282 66.16364995 43.27009299 47.08568582 69.97924278 72.26859847\n",
      " 73.7948356 ]\n"
     ]
    }
   ],
   "source": [
    "#Predict Response\n",
    "y_pred = model.predict(x)\n",
    "print('Predicted Response:', y_pred)"
   ]
  },
  {
   "cell_type": "code",
   "execution_count": 22,
   "id": "39b4bad8",
   "metadata": {},
   "outputs": [
    {
     "name": "stdout",
     "output_type": "stream",
     "text": [
      "[81.42602126]\n"
     ]
    }
   ],
   "source": [
    "#finding the weight of the person with new data\n",
    "z = model.predict(np.array([[190]]))\n",
    "print(z)"
   ]
  },
  {
   "cell_type": "code",
   "execution_count": 24,
   "id": "2323e387",
   "metadata": {},
   "outputs": [
    {
     "name": "stdout",
     "output_type": "stream",
     "text": [
      "Predicted Response: [[50.90127864]\n",
      " [54.71687147]\n",
      " [58.5324643 ]\n",
      " [56.2431086 ]\n",
      " [60.05870143]\n",
      " [62.34805712]\n",
      " [64.63741282]\n",
      " [66.16364995]\n",
      " [43.27009299]\n",
      " [47.08568582]\n",
      " [69.97924278]\n",
      " [72.26859847]\n",
      " [73.7948356 ]]\n"
     ]
    }
   ],
   "source": [
    "y_pred = model.intercept_ + model.coef_ * x\n",
    "print('Predicted Response:', y_pred)"
   ]
  },
  {
   "cell_type": "code",
   "execution_count": 25,
   "id": "ba63966f",
   "metadata": {},
   "outputs": [
    {
     "data": {
      "image/png": "[encoded data removed]",
      "text/plain": [
       "<Figure size 640x480 with 1 Axes>"
      ]
     },
     "metadata": {},
     "output_type": "display_data"
    }
   ],
   "source": [
    "import matplotlib.pyplot as plt\n",
    "plt.scatter(x,y)\n",
    "plt.plot(x,y_pred)\n",
    "plt.show()"
   ]
  },
  {
   "cell_type": "code",
   "execution_count": 26,
   "id": "4466caee",
   "metadata": {},
   "outputs": [
    {
     "name": "stdout",
     "output_type": "stream",
     "text": [
      "Coefficient of Regression: 0.9600085865468371\n"
     ]
    }
   ],
   "source": [
    "#Coefficient of Regression\n",
    "r_sq = model.score(x,y)\n",
    "print('Coefficient of Regression:',r_sq)\n",
    "#value 1 determine the perfect prediction with data"
   ]
  },
  {
   "cell_type": "code",
   "execution_count": null,
   "id": "12361317",
   "metadata": {},
   "outputs": [],
   "source": []
  },
  {
   "cell_type": "markdown",
   "id": "05e239e2",
   "metadata": {},
   "source": [
    "## Multiple Linear Regression"
   ]
  },
  {
   "cell_type": "code",
   "execution_count": 30,
   "id": "96bdbe03",
   "metadata": {},
   "outputs": [
    {
     "data": {
      "text/html": [
       "<div>\n",
       "<style scoped>\n",
       "    .dataframe tbody tr th:only-of-type {\n",
       "        vertical-align: middle;\n",
       "    }\n",
       "\n",
       "    .dataframe tbody tr th {\n",
       "        vertical-align: top;\n",
       "    }\n",
       "\n",
       "    .dataframe thead th {\n",
       "        text-align: right;\n",
       "    }\n",
       "</style>\n",
       "<table border=\"1\" class=\"dataframe\">\n",
       "  <thead>\n",
       "    <tr style=\"text-align: right;\">\n",
       "      <th></th>\n",
       "      <th>Cars</th>\n",
       "      <th>Model</th>\n",
       "      <th>Volume</th>\n",
       "      <th>Weight</th>\n",
       "      <th>CO2</th>\n",
       "    </tr>\n",
       "  </thead>\n",
       "  <tbody>\n",
       "    <tr>\n",
       "      <th>0</th>\n",
       "      <td>Toyota</td>\n",
       "      <td>Aygo</td>\n",
       "      <td>1000</td>\n",
       "      <td>790</td>\n",
       "      <td>99</td>\n",
       "    </tr>\n",
       "    <tr>\n",
       "      <th>1</th>\n",
       "      <td>Mitsubishi</td>\n",
       "      <td>Space Start</td>\n",
       "      <td>1200</td>\n",
       "      <td>1160</td>\n",
       "      <td>95</td>\n",
       "    </tr>\n",
       "    <tr>\n",
       "      <th>2</th>\n",
       "      <td>Skoda</td>\n",
       "      <td>Citigo</td>\n",
       "      <td>1000</td>\n",
       "      <td>929</td>\n",
       "      <td>95</td>\n",
       "    </tr>\n",
       "    <tr>\n",
       "      <th>3</th>\n",
       "      <td>Fiat</td>\n",
       "      <td>500</td>\n",
       "      <td>900</td>\n",
       "      <td>865</td>\n",
       "      <td>90</td>\n",
       "    </tr>\n",
       "    <tr>\n",
       "      <th>4</th>\n",
       "      <td>Mini</td>\n",
       "      <td>Cooper</td>\n",
       "      <td>1500</td>\n",
       "      <td>1140</td>\n",
       "      <td>105</td>\n",
       "    </tr>\n",
       "    <tr>\n",
       "      <th>5</th>\n",
       "      <td>VW</td>\n",
       "      <td>Up</td>\n",
       "      <td>1000</td>\n",
       "      <td>929</td>\n",
       "      <td>105</td>\n",
       "    </tr>\n",
       "    <tr>\n",
       "      <th>6</th>\n",
       "      <td>Skoda</td>\n",
       "      <td>Fabia</td>\n",
       "      <td>1400</td>\n",
       "      <td>1109</td>\n",
       "      <td>90</td>\n",
       "    </tr>\n",
       "    <tr>\n",
       "      <th>7</th>\n",
       "      <td>Mercedes</td>\n",
       "      <td>A-Class</td>\n",
       "      <td>1500</td>\n",
       "      <td>1365</td>\n",
       "      <td>92</td>\n",
       "    </tr>\n",
       "    <tr>\n",
       "      <th>8</th>\n",
       "      <td>Ford</td>\n",
       "      <td>Fiesta</td>\n",
       "      <td>1500</td>\n",
       "      <td>1112</td>\n",
       "      <td>98</td>\n",
       "    </tr>\n",
       "    <tr>\n",
       "      <th>9</th>\n",
       "      <td>Audi</td>\n",
       "      <td>A3</td>\n",
       "      <td>1600</td>\n",
       "      <td>1150</td>\n",
       "      <td>99</td>\n",
       "    </tr>\n",
       "    <tr>\n",
       "      <th>10</th>\n",
       "      <td>Hyundai</td>\n",
       "      <td>I20</td>\n",
       "      <td>1100</td>\n",
       "      <td>980</td>\n",
       "      <td>99</td>\n",
       "    </tr>\n",
       "    <tr>\n",
       "      <th>11</th>\n",
       "      <td>Suzuki</td>\n",
       "      <td>Swift</td>\n",
       "      <td>1300</td>\n",
       "      <td>990</td>\n",
       "      <td>101</td>\n",
       "    </tr>\n",
       "    <tr>\n",
       "      <th>12</th>\n",
       "      <td>Ford</td>\n",
       "      <td>Focus</td>\n",
       "      <td>1000</td>\n",
       "      <td>1112</td>\n",
       "      <td>99</td>\n",
       "    </tr>\n",
       "    <tr>\n",
       "      <th>13</th>\n",
       "      <td>Honda</td>\n",
       "      <td>Civic</td>\n",
       "      <td>1600</td>\n",
       "      <td>1252</td>\n",
       "      <td>94</td>\n",
       "    </tr>\n",
       "    <tr>\n",
       "      <th>14</th>\n",
       "      <td>Hyundai</td>\n",
       "      <td>I30</td>\n",
       "      <td>1600</td>\n",
       "      <td>1326</td>\n",
       "      <td>97</td>\n",
       "    </tr>\n",
       "    <tr>\n",
       "      <th>15</th>\n",
       "      <td>Opel</td>\n",
       "      <td>Astra</td>\n",
       "      <td>1600</td>\n",
       "      <td>1330</td>\n",
       "      <td>97</td>\n",
       "    </tr>\n",
       "    <tr>\n",
       "      <th>16</th>\n",
       "      <td>BMW</td>\n",
       "      <td>1 Series</td>\n",
       "      <td>1600</td>\n",
       "      <td>1365</td>\n",
       "      <td>99</td>\n",
       "    </tr>\n",
       "    <tr>\n",
       "      <th>17</th>\n",
       "      <td>Mazda</td>\n",
       "      <td>3</td>\n",
       "      <td>2200</td>\n",
       "      <td>1280</td>\n",
       "      <td>104</td>\n",
       "    </tr>\n",
       "    <tr>\n",
       "      <th>18</th>\n",
       "      <td>Skoda</td>\n",
       "      <td>Rapid</td>\n",
       "      <td>1600</td>\n",
       "      <td>1119</td>\n",
       "      <td>104</td>\n",
       "    </tr>\n",
       "    <tr>\n",
       "      <th>19</th>\n",
       "      <td>Ford</td>\n",
       "      <td>Focus</td>\n",
       "      <td>2000</td>\n",
       "      <td>1328</td>\n",
       "      <td>105</td>\n",
       "    </tr>\n",
       "    <tr>\n",
       "      <th>20</th>\n",
       "      <td>Ford</td>\n",
       "      <td>Mondeo</td>\n",
       "      <td>1600</td>\n",
       "      <td>1584</td>\n",
       "      <td>94</td>\n",
       "    </tr>\n",
       "    <tr>\n",
       "      <th>21</th>\n",
       "      <td>Opel</td>\n",
       "      <td>Insignia</td>\n",
       "      <td>2000</td>\n",
       "      <td>1428</td>\n",
       "      <td>99</td>\n",
       "    </tr>\n",
       "    <tr>\n",
       "      <th>22</th>\n",
       "      <td>Mercedes</td>\n",
       "      <td>C-Class</td>\n",
       "      <td>2100</td>\n",
       "      <td>1365</td>\n",
       "      <td>99</td>\n",
       "    </tr>\n",
       "    <tr>\n",
       "      <th>23</th>\n",
       "      <td>Skoda</td>\n",
       "      <td>Octavia</td>\n",
       "      <td>1600</td>\n",
       "      <td>1415</td>\n",
       "      <td>99</td>\n",
       "    </tr>\n",
       "    <tr>\n",
       "      <th>24</th>\n",
       "      <td>Volvo</td>\n",
       "      <td>S60</td>\n",
       "      <td>2000</td>\n",
       "      <td>1415</td>\n",
       "      <td>99</td>\n",
       "    </tr>\n",
       "    <tr>\n",
       "      <th>25</th>\n",
       "      <td>Mercedes</td>\n",
       "      <td>CLA</td>\n",
       "      <td>1500</td>\n",
       "      <td>1465</td>\n",
       "      <td>102</td>\n",
       "    </tr>\n",
       "    <tr>\n",
       "      <th>26</th>\n",
       "      <td>Audi</td>\n",
       "      <td>A4</td>\n",
       "      <td>2000</td>\n",
       "      <td>1490</td>\n",
       "      <td>104</td>\n",
       "    </tr>\n",
       "    <tr>\n",
       "      <th>27</th>\n",
       "      <td>Audi</td>\n",
       "      <td>A6</td>\n",
       "      <td>2000</td>\n",
       "      <td>1725</td>\n",
       "      <td>114</td>\n",
       "    </tr>\n",
       "    <tr>\n",
       "      <th>28</th>\n",
       "      <td>Volvo</td>\n",
       "      <td>V70</td>\n",
       "      <td>1600</td>\n",
       "      <td>1523</td>\n",
       "      <td>109</td>\n",
       "    </tr>\n",
       "    <tr>\n",
       "      <th>29</th>\n",
       "      <td>BMW</td>\n",
       "      <td>5 Series</td>\n",
       "      <td>2000</td>\n",
       "      <td>1705</td>\n",
       "      <td>114</td>\n",
       "    </tr>\n",
       "    <tr>\n",
       "      <th>30</th>\n",
       "      <td>Mercedes</td>\n",
       "      <td>E-Class</td>\n",
       "      <td>2100</td>\n",
       "      <td>1605</td>\n",
       "      <td>115</td>\n",
       "    </tr>\n",
       "    <tr>\n",
       "      <th>31</th>\n",
       "      <td>Volvo</td>\n",
       "      <td>XC70</td>\n",
       "      <td>2000</td>\n",
       "      <td>1705</td>\n",
       "      <td>117</td>\n",
       "    </tr>\n",
       "    <tr>\n",
       "      <th>32</th>\n",
       "      <td>Ford</td>\n",
       "      <td>B-Max</td>\n",
       "      <td>1600</td>\n",
       "      <td>1235</td>\n",
       "      <td>104</td>\n",
       "    </tr>\n",
       "    <tr>\n",
       "      <th>33</th>\n",
       "      <td>BMW</td>\n",
       "      <td>216</td>\n",
       "      <td>1600</td>\n",
       "      <td>1390</td>\n",
       "      <td>108</td>\n",
       "    </tr>\n",
       "    <tr>\n",
       "      <th>34</th>\n",
       "      <td>Opel</td>\n",
       "      <td>Zafira</td>\n",
       "      <td>1600</td>\n",
       "      <td>1405</td>\n",
       "      <td>109</td>\n",
       "    </tr>\n",
       "    <tr>\n",
       "      <th>35</th>\n",
       "      <td>Mercedes</td>\n",
       "      <td>SLK</td>\n",
       "      <td>2500</td>\n",
       "      <td>1395</td>\n",
       "      <td>120</td>\n",
       "    </tr>\n",
       "  </tbody>\n",
       "</table>\n",
       "</div>"
      ],
      "text/plain": [
       "          Cars        Model  Volume  Weight  CO2\n",
       "0       Toyota         Aygo    1000     790   99\n",
       "1   Mitsubishi  Space Start    1200    1160   95\n",
       "2        Skoda       Citigo    1000     929   95\n",
       "3         Fiat          500     900     865   90\n",
       "4         Mini       Cooper    1500    1140  105\n",
       "5           VW           Up    1000     929  105\n",
       "6       Skoda         Fabia    1400    1109   90\n",
       "7     Mercedes      A-Class    1500    1365   92\n",
       "8         Ford       Fiesta    1500    1112   98\n",
       "9         Audi           A3    1600    1150   99\n",
       "10     Hyundai          I20    1100     980   99\n",
       "11      Suzuki        Swift    1300     990  101\n",
       "12        Ford        Focus    1000    1112   99\n",
       "13       Honda        Civic    1600    1252   94\n",
       "14     Hyundai          I30    1600    1326   97\n",
       "15        Opel        Astra    1600    1330   97\n",
       "16         BMW     1 Series    1600    1365   99\n",
       "17      Mazda             3    2200    1280  104\n",
       "18       Skoda        Rapid    1600    1119  104\n",
       "19        Ford        Focus    2000    1328  105\n",
       "20        Ford       Mondeo    1600    1584   94\n",
       "21        Opel     Insignia    2000    1428   99\n",
       "22    Mercedes      C-Class    2100    1365   99\n",
       "23       Skoda      Octavia    1600    1415   99\n",
       "24       Volvo          S60    2000    1415   99\n",
       "25    Mercedes          CLA    1500    1465  102\n",
       "26        Audi           A4    2000    1490  104\n",
       "27        Audi           A6    2000    1725  114\n",
       "28       Volvo          V70    1600    1523  109\n",
       "29         BMW     5 Series    2000    1705  114\n",
       "30    Mercedes      E-Class    2100    1605  115\n",
       "31       Volvo         XC70    2000    1705  117\n",
       "32        Ford        B-Max    1600    1235  104\n",
       "33         BMW          216    1600    1390  108\n",
       "34        Opel       Zafira    1600    1405  109\n",
       "35    Mercedes          SLK    2500    1395  120"
      ]
     },
     "execution_count": 30,
     "metadata": {},
     "output_type": "execute_result"
    }
   ],
   "source": [
    "import pandas as pd\n",
    "df = pd.read_csv(\"Cars.csv\")\n",
    "df"
   ]
  },
  {
   "cell_type": "code",
   "execution_count": 31,
   "id": "b77add8e",
   "metadata": {},
   "outputs": [],
   "source": [
    "x = df[['Weight','Volume']]\n",
    "y = df['CO2']"
   ]
  },
  {
   "cell_type": "code",
   "execution_count": 35,
   "id": "03870920",
   "metadata": {},
   "outputs": [
    {
     "name": "stdout",
     "output_type": "stream",
     "text": [
      "    Weight  Volume\n",
      "0      790    1000\n",
      "1     1160    1200\n",
      "2      929    1000\n",
      "3      865     900\n",
      "4     1140    1500\n",
      "5      929    1000\n",
      "6     1109    1400\n",
      "7     1365    1500\n",
      "8     1112    1500\n",
      "9     1150    1600\n",
      "10     980    1100\n",
      "11     990    1300\n",
      "12    1112    1000\n",
      "13    1252    1600\n",
      "14    1326    1600\n",
      "15    1330    1600\n",
      "16    1365    1600\n",
      "17    1280    2200\n",
      "18    1119    1600\n",
      "19    1328    2000\n",
      "20    1584    1600\n",
      "21    1428    2000\n",
      "22    1365    2100\n",
      "23    1415    1600\n",
      "24    1415    2000\n",
      "25    1465    1500\n",
      "26    1490    2000\n",
      "27    1725    2000\n",
      "28    1523    1600\n",
      "29    1705    2000\n",
      "30    1605    2100\n",
      "31    1705    2000\n",
      "32    1235    1600\n",
      "33    1390    1600\n",
      "34    1405    1600\n",
      "35    1395    2500\n"
     ]
    }
   ],
   "source": [
    "print(x)\n",
    "#print(y)"
   ]
  },
  {
   "cell_type": "code",
   "execution_count": 37,
   "id": "fe27991f",
   "metadata": {},
   "outputs": [
    {
     "data": {
      "text/plain": [
       "LinearRegression()"
      ]
     },
     "execution_count": 37,
     "metadata": {},
     "output_type": "execute_result"
    }
   ],
   "source": [
    "from sklearn.linear_model import LinearRegression\n",
    "regr = LinearRegression()\n",
    "regr.fit(x,y)"
   ]
  },
  {
   "cell_type": "code",
   "execution_count": 39,
   "id": "ef8839e5",
   "metadata": {},
   "outputs": [
    {
     "name": "stdout",
     "output_type": "stream",
     "text": [
      "Intercept: 79.83944230620887\n",
      "Slope: [0.00723121 0.007977  ]\n"
     ]
    }
   ],
   "source": [
    "print('Intercept:',regr.intercept_)\n",
    "print('Slope:',regr.coef_) # relation with weight and volume with CO2"
   ]
  },
  {
   "cell_type": "code",
   "execution_count": 43,
   "id": "cb5bebb5",
   "metadata": {},
   "outputs": [
    {
     "name": "stdout",
     "output_type": "stream",
     "text": [
      "CO2 emmission: [106.84133064]\n"
     ]
    },
    {
     "name": "stderr",
     "output_type": "stream",
     "text": [
      "C:\\Users\\gaura\\anaconda3\\lib\\site-packages\\sklearn\\base.py:450: UserWarning: X does not have valid feature names, but LinearRegression was fitted with feature names\n",
      "  warnings.warn(\n"
     ]
    }
   ],
   "source": [
    "predict_Co2 = regr.predict([[2300,1300]])\n",
    "print(\"CO2 emmission:\",predict_Co2)"
   ]
  },
  {
   "cell_type": "code",
   "execution_count": 50,
   "id": "a202438a",
   "metadata": {},
   "outputs": [
    {
     "name": "stdout",
     "output_type": "stream",
     "text": [
      "CO2 emmission: [114.07254122]\n"
     ]
    },
    {
     "name": "stderr",
     "output_type": "stream",
     "text": [
      "C:\\Users\\gaura\\anaconda3\\lib\\site-packages\\sklearn\\base.py:450: UserWarning: X does not have valid feature names, but LinearRegression was fitted with feature names\n",
      "  warnings.warn(\n"
     ]
    }
   ],
   "source": [
    "predictCo2 = regr.predict([[3300,1300]])\n",
    "print(\"CO2 emmission:\",predictCo2)"
   ]
  },
  {
   "cell_type": "code",
   "execution_count": 47,
   "id": "b087b97a",
   "metadata": {},
   "outputs": [
    {
     "data": {
      "text/plain": [
       "114.07254064"
      ]
     },
     "execution_count": 47,
     "metadata": {},
     "output_type": "execute_result"
    }
   ],
   "source": [
    "106.84133064 + (1000*0.00723121)"
   ]
  },
  {
   "cell_type": "code",
   "execution_count": 51,
   "id": "88a96086",
   "metadata": {},
   "outputs": [
    {
     "name": "stdout",
     "output_type": "stream",
     "text": [
      "CO2 emmission: [122.04954429]\n"
     ]
    },
    {
     "name": "stderr",
     "output_type": "stream",
     "text": [
      "C:\\Users\\gaura\\anaconda3\\lib\\site-packages\\sklearn\\base.py:450: UserWarning: X does not have valid feature names, but LinearRegression was fitted with feature names\n",
      "  warnings.warn(\n"
     ]
    }
   ],
   "source": [
    "predictCO2 = regr.predict([[3300,2300]])\n",
    "print(\"CO2 emmission:\",predictCO2)"
   ]
  },
  {
   "cell_type": "code",
   "execution_count": 52,
   "id": "b7d9ca1f",
   "metadata": {},
   "outputs": [
    {
     "data": {
      "text/plain": [
       "122.04954122000001"
      ]
     },
     "execution_count": 52,
     "metadata": {},
     "output_type": "execute_result"
    }
   ],
   "source": [
    "114.07254122 + (1000*0.007977)"
   ]
  },
  {
   "cell_type": "code",
   "execution_count": null,
   "id": "396d6199",
   "metadata": {},
   "outputs": [],
   "source": []
  },
  {
   "cell_type": "markdown",
   "id": "fe59f7d7",
   "metadata": {},
   "source": [
    "### Train and Test Split\n",
    "##### Lets Split dataset by using function \"train_test_split()\". You need to pass 3 parameters. Features(independent variables), target, and test_set size. Additionally, you can use random_state to select records randomly. \"test_size\" decides the size of the data that has to be split as the test data. \"random_state\" is basically used for reproducing your problme the same every time it is run."
   ]
  },
  {
   "cell_type": "code",
   "execution_count": 53,
   "id": "a2984cef",
   "metadata": {},
   "outputs": [],
   "source": [
    "from sklearn.model_selection import train_test_split\n",
    "X_train, X_test, y_train ,y_test = train_test_split(x,y, test_size=0.2, random_state=0)\n",
    "#here, the Dataset is broken into two parts in a ratio of 80:20. It means 80% data will be \n",
    "#used for model training and 25% for model testing.\n"
   ]
  },
  {
   "cell_type": "code",
   "execution_count": 62,
   "id": "d18dbcba",
   "metadata": {},
   "outputs": [
    {
     "data": {
      "text/plain": [
       "31    117\n",
       "20     94\n",
       "16     99\n",
       "30    115\n",
       "22     99\n",
       "15     97\n",
       "10     99\n",
       "2      95\n",
       "Name: CO2, dtype: int64"
      ]
     },
     "execution_count": 62,
     "metadata": {},
     "output_type": "execute_result"
    }
   ],
   "source": [
    "y_test"
   ]
  },
  {
   "cell_type": "code",
   "execution_count": 60,
   "id": "e34a3830",
   "metadata": {},
   "outputs": [
    {
     "data": {
      "text/plain": [
       "LinearRegression()"
      ]
     },
     "execution_count": 60,
     "metadata": {},
     "output_type": "execute_result"
    }
   ],
   "source": [
    " regr.fit(X_train, y_train)"
   ]
  },
  {
   "cell_type": "code",
   "execution_count": 61,
   "id": "a3f441bd",
   "metadata": {},
   "outputs": [
    {
     "name": "stdout",
     "output_type": "stream",
     "text": [
      "[108.25012734 104.31804036 102.72161109 108.2836746  106.53416307\n",
      " 102.46647399  96.10255102  94.96826943]\n"
     ]
    }
   ],
   "source": [
    "predict_y = regr.predict(X_test)\n",
    "print(predict_y)"
   ]
  },
  {
   "cell_type": "markdown",
   "id": "f6e4c3d6",
   "metadata": {},
   "source": [
    "##### There are three primary metrics used to evaluate linear models.\n",
    "##### These are: Mean Absolute Error(MAE), Mean Squared Error(MSE), Root Mean Square Error(RMSE)\n",
    "##### MAE: The easiest to understand. Represents average error\n",
    "##### MSE: Similar to MAE but noise is exaggerated and larger errors are \"\"pusnished\". It is harder to interpret than MAE as it's not in base units, however, it is generally more popular.\n",
    "##### RMSE: Most popular metric, similar to MSE, however, the result is squared rooted to make it more interpretable as it's in base units. It is recommended that RMSE be used as the primary metric to interpret your model."
   ]
  },
  {
   "cell_type": "code",
   "execution_count": 65,
   "id": "86d38c3a",
   "metadata": {},
   "outputs": [
    {
     "name": "stdout",
     "output_type": "stream",
     "text": [
      "6.49060679726646\n"
     ]
    }
   ],
   "source": [
    "#Using RMSE\n",
    "from sklearn import metrics\n",
    "print(np.sqrt(metrics.mean_squared_error(y_test, predict_y)))"
   ]
  },
  {
   "cell_type": "code",
   "execution_count": 68,
   "id": "a5f191b4",
   "metadata": {},
   "outputs": [
    {
     "name": "stdout",
     "output_type": "stream",
     "text": [
      "[ 93.95501067  98.17719507  94.96826943  93.73922262 100.31893363\n",
      "  94.96826943  99.33044466 101.95910069 100.11482395 101.15434034\n",
      "  96.10255102  97.70046813  96.30227197 101.89788274 102.43731546\n",
      " 102.46647399 102.72161109 106.6770548  100.92836177 105.50193631\n",
      " 104.31804036 106.23089945 106.53416307 103.08609266 106.13613424\n",
      " 102.68806383 106.6828566  108.39591997 103.87337284 108.25012734\n",
      " 108.2836746  108.25012734 101.77395901 102.90385187 103.01319634\n",
      " 109.8028936 ]\n"
     ]
    }
   ],
   "source": [
    "predictedCO2 = regr.predict(x)\n",
    "print(predictedCO2)"
   ]
  },
  {
   "cell_type": "code",
   "execution_count": 69,
   "id": "1d48ad00",
   "metadata": {},
   "outputs": [
    {
     "data": {
      "image/png": "[encoded data removed]",
      "text/plain": [
       "<Figure size 640x480 with 1 Axes>"
      ]
     },
     "metadata": {},
     "output_type": "display_data"
    }
   ],
   "source": [
    "#comparing \n",
    "plt.bar([1,3,5,7,9,11,13,15,17,19],predictedCO2[0:10], label=\"predicted value\")\n",
    "plt.bar([2,4,6,8,10,12,14,16,18,20],y[0:10], label=\"Actual Value\", color='r')\n",
    "plt.legend()\n",
    "plt.xlabel('bar number')\n",
    "plt.ylabel('bar height')\n",
    "plt.title(\"Predicted value vs Actual Value\")\n",
    "plt.show()"
   ]
  },
  {
   "cell_type": "code",
   "execution_count": null,
   "id": "53ee4ade",
   "metadata": {},
   "outputs": [],
   "source": []
  },
  {
   "cell_type": "markdown",
   "id": "4a9b134b",
   "metadata": {},
   "source": [
    "## Polynomial Regression"
   ]
  },
  {
   "cell_type": "code",
   "execution_count": 71,
   "id": "855f1b27",
   "metadata": {},
   "outputs": [
    {
     "data": {
      "image/png": "[encoded data removed]",
      "text/plain": [
       "<Figure size 640x480 with 1 Axes>"
      ]
     },
     "metadata": {},
     "output_type": "display_data"
    }
   ],
   "source": [
    "import numpy as np\n",
    "import matplotlib.pyplot as plt\n",
    "\n",
    "x = [1,2,3,5,6,7,8,9,10,12,13,14,15,16,18,19,21,22] #hours of the day\n",
    "y = [100,90,80,60,60,55,60,65,70,70,75,76,78,79,90,99,99,100] #speed of the cars\n",
    "plt.scatter(x,y)\n",
    "plt.show()"
   ]
  },
  {
   "cell_type": "code",
   "execution_count": 72,
   "id": "8e4cbcc5",
   "metadata": {},
   "outputs": [],
   "source": [
    "#polynomial regression model\n",
    "mymodel = np.poly1d(np.polyfit(x,y,3)) #A one dimensional polynomial class\n",
    "#Here, 3 represents 'Degree of the fitting polynomial'"
   ]
  },
  {
   "cell_type": "code",
   "execution_count": 73,
   "id": "05523e76",
   "metadata": {},
   "outputs": [
    {
     "name": "stdout",
     "output_type": "stream",
     "text": [
      "[ 1.          1.21212121  1.42424242  1.63636364  1.84848485  2.06060606\n",
      "  2.27272727  2.48484848  2.6969697   2.90909091  3.12121212  3.33333333\n",
      "  3.54545455  3.75757576  3.96969697  4.18181818  4.39393939  4.60606061\n",
      "  4.81818182  5.03030303  5.24242424  5.45454545  5.66666667  5.87878788\n",
      "  6.09090909  6.3030303   6.51515152  6.72727273  6.93939394  7.15151515\n",
      "  7.36363636  7.57575758  7.78787879  8.          8.21212121  8.42424242\n",
      "  8.63636364  8.84848485  9.06060606  9.27272727  9.48484848  9.6969697\n",
      "  9.90909091 10.12121212 10.33333333 10.54545455 10.75757576 10.96969697\n",
      " 11.18181818 11.39393939 11.60606061 11.81818182 12.03030303 12.24242424\n",
      " 12.45454545 12.66666667 12.87878788 13.09090909 13.3030303  13.51515152\n",
      " 13.72727273 13.93939394 14.15151515 14.36363636 14.57575758 14.78787879\n",
      " 15.         15.21212121 15.42424242 15.63636364 15.84848485 16.06060606\n",
      " 16.27272727 16.48484848 16.6969697  16.90909091 17.12121212 17.33333333\n",
      " 17.54545455 17.75757576 17.96969697 18.18181818 18.39393939 18.60606061\n",
      " 18.81818182 19.03030303 19.24242424 19.45454545 19.66666667 19.87878788\n",
      " 20.09090909 20.3030303  20.51515152 20.72727273 20.93939394 21.15151515\n",
      " 21.36363636 21.57575758 21.78787879 22.        ]\n"
     ]
    }
   ],
   "source": [
    "myline = np.linspace(1,22,100)\n",
    "print(myline)"
   ]
  },
  {
   "cell_type": "code",
   "execution_count": 77,
   "id": "dd1574b4",
   "metadata": {},
   "outputs": [
    {
     "data": {
      "image/png": "[encoded data removed]",
      "text/plain": [
       "<Figure size 640x480 with 1 Axes>"
      ]
     },
     "metadata": {},
     "output_type": "display_data"
    }
   ],
   "source": [
    "plt.scatter(x,y)\n",
    "plt.plot(myline,mymodel(myline)) #draw the line of polynomial regression\n",
    "plt.show()"
   ]
  },
  {
   "cell_type": "code",
   "execution_count": 78,
   "id": "36f3b8ce",
   "metadata": {},
   "outputs": [
    {
     "name": "stdout",
     "output_type": "stream",
     "text": [
      "0.9432150416451027\n"
     ]
    }
   ],
   "source": [
    "#Implementing Polynomial Regression\n",
    "from sklearn.metrics import r2_score\n",
    "print(r2_score(y,mymodel(x)))"
   ]
  },
  {
   "cell_type": "code",
   "execution_count": 84,
   "id": "d90840f9",
   "metadata": {},
   "outputs": [
    {
     "name": "stdout",
     "output_type": "stream",
     "text": [
      "88.87331269697987\n"
     ]
    }
   ],
   "source": [
    "#Prediction from new date\n",
    "speed = mymodel(17)\n",
    "print(speed)"
   ]
  },
  {
   "cell_type": "code",
   "execution_count": null,
   "id": "5973eadd",
   "metadata": {},
   "outputs": [],
   "source": []
  }
 ],
 "metadata": {
  "kernelspec": {
   "display_name": "Python 3 (ipykernel)",
   "language": "python",
   "name": "python3"
  },
  "language_info": {
   "codemirror_mode": {
    "name": "ipython",
    "version": 3
   },
   "file_extension": ".py",
   "mimetype": "text/x-python",
   "name": "python",
   "nbconvert_exporter": "python",
   "pygments_lexer": "ipython3",
   "version": "3.9.13"
  }
 },
 "nbformat": 4,
 "nbformat_minor": 5
}
